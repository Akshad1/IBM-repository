{
 "cells": [
  {
   "cell_type": "markdown",
   "metadata": {},
   "source": [
    "<center>\n",
    "    <img src=\"https://cf-courses-data.s3.us.cloud-object-storage.appdomain.cloud/IBMDeveloperSkillsNetwork-DS0105EN-SkillsNetwork/labs/Module2/images/SN_web_lightmode.png\" width=\"300\" alt=\"cognitiveclass.ai logo\">\n",
    "</center>\n"
   ]
  },
  {
   "cell_type": "markdown",
   "metadata": {},
   "source": [
    "#### Add your code below following the instructions given in the course\n"
   ]
  },
  {
   "cell_type": "markdown",
   "metadata": {},
   "source": [
    "<h1> Data Science Ecosystem.</h1>"
   ]
  },
  {
   "cell_type": "markdown",
   "metadata": {},
   "source": [
    "<h2>In this notebook, Data Science Tools and Ecosystem are summarized.</h2>"
   ]
  },
  {
   "cell_type": "markdown",
   "metadata": {},
   "source": [
    "<p><b>Objectives:</b></p>\n",
    "<ul>\n",
    "  <li>List popular languages for Data Science</li>\n",
    "  <li>Identify commonly used libraries in Data Science</li>\n",
    "  <li>Describe open-source development environment tools used in Data Science</li>\n",
    "  <li>Demonstrate evaluating arithmetic expressions in Python</li>\n",
    "  <li>Convert time units (minutes to hours) using Python</li>\n",
    "</ul>\n"
   ]
  },
  {
   "cell_type": "markdown",
   "metadata": {},
   "source": [
    "<p>Some of the popular languages used by Data Scientists are:</p>\n",
    "<ol><b>\n",
    "    <li>Python</li>\n",
    "    <li>R</li>\n",
    "    <li>SQL</li>\n",
    "    <li>Julia</li>\n",
    "</b>\n",
    "</ol>"
   ]
  },
  {
   "cell_type": "markdown",
   "metadata": {},
   "source": [
    "<p>Some of the commonly used libraries used by Data Scientists include:</p>\n",
    "<ol>\n",
    "    <li><b>NumPy:</b>\n",
    "Used for mathematical operations, arrays, and linear algebra.</li>\n",
    "    <li><b> Pandas:</b>\n",
    "Used for data manipulation and analysis.</li>\n",
    "    <li><b> Matplotlib:</b>\n",
    "A data visualization library.</li>\n",
    "    <li><b> Scikit-learn:</b>\n",
    "Library for machine learning.</li>\n",
    "    <li><b>TensorFlow / PyTorch:</b>    \n",
    "Used for neural networks, computer vision, NLP, and AI research. </li>\n",
    "</ol>"
   ]
  },
  {
   "cell_type": "markdown",
   "metadata": {},
   "source": [
    "<h3>Data Science Tools</h3>"
   ]
  },
  {
   "cell_type": "markdown",
   "metadata": {},
   "source": [
    "<table border=\"1\" style=\"border-collapse: collapse; text-align: left; padding: 8px;\">\n",
    "  <tr>\n",
    "    <th>Data Science Tools</th>\n",
    "    <th>Description</th>\n",
    "  </tr>\n",
    "  <tr>\n",
    "    <td>Jupyter Notebook</td>\n",
    "    <td>An open-source web application for creating and sharing documents with live code, equations, and visualizations.</td>\n",
    "  </tr>\n",
    "  <tr>\n",
    "    <td>RStudio</td>\n",
    "    <td>An integrated development environment (IDE) for R, used for statistical computing and data analysis.</td>\n",
    "  </tr>\n",
    "  <tr>\n",
    "    <td>Apache Zeppelin</td>\n",
    "    <td>A web-based notebook that supports interactive data analytics with multiple languages such as Scala, Python, and SQL.</td>\n",
    "  </tr>\n",
    "</table>\n"
   ]
  },
  {
   "cell_type": "markdown",
   "metadata": {},
   "source": [
    "<h3>Below are a few examples of evaluating arithmetic expressions in Python</h3>\n",
    "\n",
    "<ul>\n",
    "  <li><code>3 + 2</code> → Addition (Result: 5)</li>\n",
    "  <li><code>5 - 3</code> → Subtraction (Result: 2)</li>\n",
    "  <li><code>4 * 2</code> → Multiplication (Result: 8)</li>\n",
    "  <li><code>10 / 2</code> → Division (Result: 5.0)</li>\n",
    "  <li><code>10 % 3</code> → Modulus (Result: 1)</li>\n",
    "  <li><code>2 ** 3</code> → Exponentiation (Result: 8)</li>\n",
    "</ul>\n"
   ]
  },
  {
   "cell_type": "code",
   "execution_count": 2,
   "metadata": {},
   "outputs": [
    {
     "data": {
      "text/plain": [
       "17.0"
      ]
     },
     "execution_count": 2,
     "metadata": {},
     "output_type": "execute_result"
    }
   ],
   "source": [
    " (3*4)+5.\n",
    "#This is a simple arithmetic expression to multiply and then add integers."
   ]
  },
  {
   "cell_type": "code",
   "execution_count": 3,
   "metadata": {},
   "outputs": [
    {
     "data": {
      "text/plain": [
       "3.3333333333333335"
      ]
     },
     "execution_count": 3,
     "metadata": {},
     "output_type": "execute_result"
    }
   ],
   "source": [
    "# This will convert 200 minutes to hours by dividing by 60\n",
    "200 / 60\n"
   ]
  },
  {
   "cell_type": "markdown",
   "metadata": {},
   "source": [
    "<h2>Author</h2>\n",
    "<p>Akshad Ravlekar</p>\n"
   ]
  }
 ],
 "metadata": {
  "kernelspec": {
   "display_name": "Python 3 (ipykernel)",
   "language": "python",
   "name": "python3"
  },
  "language_info": {
   "codemirror_mode": {
    "name": "ipython",
    "version": 3
   },
   "file_extension": ".py",
   "mimetype": "text/x-python",
   "name": "python",
   "nbconvert_exporter": "python",
   "pygments_lexer": "ipython3",
   "version": "3.12.8"
  }
 },
 "nbformat": 4,
 "nbformat_minor": 4
}
